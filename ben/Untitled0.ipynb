{
 "metadata": {
  "name": "",
  "signature": "sha256:d365f32ae11d17be67af6e75dfd53b40201637d4516e0506f058bb9e9bd2dc51"
 },
 "nbformat": 3,
 "nbformat_minor": 0,
 "worksheets": []
}