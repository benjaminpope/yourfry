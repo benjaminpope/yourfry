{
 "metadata": {
  "name": "",
  "signature": "sha256:a051ebb50176484b651f2c8d2068927caea070bc64949e9079496037cf9a38b9"
 },
 "nbformat": 3,
 "nbformat_minor": 0,
 "worksheets": [
  {
   "cells": [
    {
     "cell_type": "code",
     "collapsed": false,
     "input": [
      "import numpy as np \n",
      "import matplotlib.pyplot as plt \n",
      "import nltk \n",
      "import nltk.classify.util\n",
      "from nltk.classify import NaiveBayesClassifier\n",
      "from nltk.corpus import movie_reviews\n",
      "from sklearn.feature_extraction.text import CountVectorizer\n",
      "\n",
      "# '''-------------------------------------------------------\n",
      "# textmining.py\n",
      "\n",
      "# A script to do text mining of Stephen Fry's corpus in \n",
      "# Python, for the Bodleian Libraries YourFry Hackathon.\n",
      "\n",
      "# inspired by\n",
      "\n",
      "# http://streamhacker.com/2010/05/10/ \n",
      "# text-classification-sentiment-analysis-naive-bayes-classifier/\n",
      "# -------------------------------------------------------'''"
     ],
     "language": "python",
     "metadata": {},
     "outputs": [
      {
       "output_type": "stream",
       "stream": "stderr",
       "text": [
        "/usr/local/lib/python2.7/dist-packages/numpy/core/fromnumeric.py:2499: VisibleDeprecationWarning: `rank` is deprecated; use the `ndim` attribute or function instead. To find the rank of a matrix see `numpy.linalg.matrix_rank`.\n",
        "  VisibleDeprecationWarning)\n"
       ]
      }
     ],
     "prompt_number": 1
    },
    {
     "cell_type": "code",
     "collapsed": false,
     "input": [
      "with open (\"../data/frytext.txt\", \"r\") as myfile:\n",
      "\tdata=myfile.read().split('\\n')\n"
     ],
     "language": "python",
     "metadata": {},
     "outputs": [],
     "prompt_number": 2
    },
    {
     "cell_type": "code",
     "collapsed": false,
     "input": [
      "from sklearn.feature_extraction.text import CountVectorizer\n",
      "from sklearn.feature_extraction.text import TfidfVectorizer\n",
      "n_features=20000\n",
      "vectorizer = TfidfVectorizer(max_features=n_features,stop_words='english')\n",
      "x = vectorizer.fit_transform(data)\n",
      "\n",
      "\n"
     ],
     "language": "python",
     "metadata": {},
     "outputs": [],
     "prompt_number": 6
    },
    {
     "cell_type": "code",
     "collapsed": false,
     "input": [
      "from sklearn.decomposition import NMF\n",
      "n_topics = 15\n",
      "nmf = NMF(n_components=n_topics).fit(x)"
     ],
     "language": "python",
     "metadata": {},
     "outputs": [],
     "prompt_number": 7
    },
    {
     "cell_type": "code",
     "collapsed": false,
     "input": [
      "feature_names = vectorizer.get_feature_names()"
     ],
     "language": "python",
     "metadata": {},
     "outputs": [],
     "prompt_number": 8
    },
    {
     "cell_type": "code",
     "collapsed": false,
     "input": [
      "n_top_words = 25\n",
      "\n",
      "for topic_idx, topic in enumerate(nmf.components_):\n",
      "    print(\"Topic #%d:\" % topic_idx)\n",
      "    print(\" \".join([feature_names[i]\n",
      "                    for i in topic.argsort()[:-n_top_words - 1:-1]]))"
     ],
     "language": "python",
     "metadata": {},
     "outputs": [
      {
       "output_type": "stream",
       "stream": "stdout",
       "text": [
        "Topic #0:\n",
        "club arts military naval white brooks beefsteak reform carlton groucho raf savage savile garrick travellers rac boodle chelsea army navy united oxford devonshire sports india\n",
        "Topic #1:\n",
        "radio bbc service world england 24 chesham writes influencers influenced 15 favourite voices writers saturday night london comedy television centre chelsea stephen computers technology says\n",
        "Topic #2:\n",
        "savoy sinatra frank 27 encounter celebrity mr fan stephen arturo filming says midnight opened does drew car door party went past guest meet term roll\n",
        "Topic #3:\n",
        "addiction drugs offices health mental anxiety sugar police met homes private palaces blackadder cigarettes yorkshire holmes sherlock sex memoir artists edmonds st bury breakfast family\n",
        "Topic #4:\n",
        "celebrity friends theatre careers 21 mixing truss lynne lives thatcher margaret bipolar princess yamaha diana depression hypomania norwich tweed family leather identity city direction interview\n",
        "Topic #5:\n",
        "comedy 1980s tide british changing comedians thatcher margaret class curtis richard bbc laurie gay 11 community celebrity relationship clich\u00e9s leaves blackadder come university tv hugh\n",
        "Topic #6:\n",
        "new york america pastrami deli angeles los like carnegie girl 25 discovering travel said time say think did sandwich kind know honey self long world\n",
        "Topic #7:\n",
        "fry laurie mr chronicles writing 26 memoir saturday introduces night second hugh pleasure long tv stephen blackadder day tweedy writers influencers radio fan sinatra meet\n",
        "Topic #8:\n",
        "house vogue soho commons clarence lords grosvenor sandringham tatler fair vanity sugar cereal drama result changed neil mr breakfast miles norfolk wouldn gloucestershire cupboard deliveries\n",
        "Topic #9:\n",
        "cambridge college acting class footlights shakespeare workings collegiate joys discovers theatre influencers love oxford attention colleague united richard drama marlowe dozens roles students dislike corners\n",
        "Topic #10:\n",
        "fame attention 13 cloying childish sweets influencers truss lynne princess yamaha identity diana tweed leather love acting theatre desire sweet candy floss infantile taste famous\n",
        "Topic #11:\n",
        "computer macintosh technology douglas adams 16 launched computers 1984 lear king macplus inits bbc hugh wimp sex laurie 32k chelsea graphical lifelong love acorn begins\n",
        "Topic #12:\n",
        "love uppingham fool school auden life 18 returning opening homosexuality granada television london truth tell living stouts hill edmonds childhood sugar bury st good 12\n",
        "Topic #13:\n",
        "botham australia musical travel food wine positivity richness tour 1980s impresses impress stephen oysters britain girl mood carnegie deli pastrami old america bottles restaurant noir\n",
        "Topic #14:\n",
        "stephen takes life heart acting discusses writes reflects 10 neuroses 14 bout celibacy clich\u00e9s leaves joys discovers bad job teaching university 11 19 institutions community\n"
       ]
      }
     ],
     "prompt_number": 9
    },
    {
     "cell_type": "code",
     "collapsed": false,
     "input": [],
     "language": "python",
     "metadata": {},
     "outputs": []
    }
   ],
   "metadata": {}
  }
 ]
}